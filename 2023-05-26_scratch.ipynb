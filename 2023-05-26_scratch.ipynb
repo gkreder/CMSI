{
 "cells": [
  {
   "cell_type": "code",
   "execution_count": 267,
   "metadata": {},
   "outputs": [
    {
     "name": "stdout",
     "output_type": "stream",
     "text": [
      "The autoreload extension is already loaded. To reload it, use:\n",
      "  %reload_ext autoreload\n"
     ]
    }
   ],
   "source": [
    "%load_ext autoreload\n",
    "%autoreload 2\n",
    "import sys\n",
    "import os\n",
    "import argparse\n",
    "import numpy as np\n",
    "from tqdm.auto import tqdm\n",
    "import spectrumMatching\n",
    "import pyopenms as pyms\n",
    "import pandas as pd\n",
    "import scipy\n",
    "import matplotlib.pyplot as plt\n",
    "import seaborn as sns"
   ]
  },
  {
   "cell_type": "code",
   "execution_count": 222,
   "metadata": {},
   "outputs": [
    {
     "name": "stderr",
     "output_type": "stream",
     "text": [
      "100%|██████████| 60/60 [00:29<00:00,  2.05it/s]\n",
      " 50%|█████     | 1/2 [00:29<00:29, 29.23s/it]\n"
     ]
    }
   ],
   "source": [
    "import importlib\n",
    "spectrumMatching = importlib.reload(spectrumMatching)\n",
    "\n",
    "class argsObject(object):\n",
    "    pass\n",
    "args = argsObject()\n",
    "args.tsv = \"/Users/reder/Library/CloudStorage/OneDrive-Chalmers/MS-MS_Comparison/210128_MS-MS_Comparison_Algorithm/Software_deliverables/2023-05-26_CDF_test/2023-05-26_CDF_test.tsv\"\n",
    "args.random_seed = 1\n",
    "\n",
    "with open(args.tsv, 'r') as f:\n",
    "    lines = f.readlines()\n",
    "\n",
    "for i_line, line in enumerate(tqdm(lines)):\n",
    "    if i_line == 0:\n",
    "        header = line.split('\\t')\n",
    "        continue\n",
    "    line_args = line.split('\\t')\n",
    "    cmd_args_dict = dict()\n",
    "    for (h, a) in zip(header, line_args):\n",
    "        if a not in [\"\", '\\n']:\n",
    "            cmd_args_dict[h] = a\n",
    "    cmd_args_dict['parentMZ'] = cmd_args_dict['Exact m/z']\n",
    "    cmd_args_dict['parentFormula'] = cmd_args_dict['Formula (w/ adduct)']\n",
    "    if \"inDir\" in cmd_args_dict.keys():\n",
    "        if \"inFiles\" in cmd_args_dict.keys():\n",
    "            sys.exit(f\"Both inDir and inFiles were provided in row {i_line + 1}. Please provide only one\")\n",
    "        idt = cmd_args_dict['inDir']\n",
    "        cmd_args_dict['inFiles'] = \",\".join([os.path.join(idt, x) for x in os.listdir(idt) if x.lower().endswith('.mzml')])\n",
    "    hit_rows = spectrumMatching.scrape_spectra_hits(**cmd_args_dict)\n",
    "    break"
   ]
  },
  {
   "cell_type": "code",
   "execution_count": 223,
   "metadata": {},
   "outputs": [],
   "source": [
    "# hit_rows\n",
    "np.random.seed(args.random_seed)\n",
    "choices = np.random.choice(range(0, len(hit_rows)), len(hit_rows), replace=False)\n",
    "i = 0\n",
    "pairs = []\n",
    "while True:\n",
    "    pairs.append((choices[i], choices[i + 1]))\n",
    "    i += 2\n",
    "    if i >= len(choices):\n",
    "        break\n",
    "out_rows = []\n",
    "pref = f\"{cmd_args_dict['Compound']}_{cmd_args_dict['Collision Energy']}_{cmd_args_dict['Mode']}\"\n",
    "for iPair, (iSpec, jSpec) in enumerate(tqdm(pairs)):\n",
    "    iMeta = hit_rows[iSpec]\n",
    "    jMeta = hit_rows[jSpec]\n",
    "    drop_keys = [\"Compound\", \"inDir\", \"inFiles\", \"Mode\", \"Collision Energy\", \n",
    "                \"Target RT\", \"Begin\", \"End\", \"Adduct\", \"Formula (w/ adduct)\",\n",
    "                \"Exact m/z\", \"Targeted m/z\", \"isolationMZTol\"]\n",
    "    spec_matching_args_dict = {k : v for (k,v) in cmd_args_dict.items() if k not in drop_keys}\n",
    "    spec_matching_args_dict['outDir'] = os.path.join(cmd_args_dict['outDir'], f\"{pref}_matching\")\n",
    "    spec_matching_args_dict['outPrefix'] = f\"{cmd_args_dict['Compound']}_{cmd_args_dict['Mode']}_{cmd_args_dict['Collision Energy']}_{iPair}\"\n",
    "    spec_matching_args_dict['mzml1'] = iMeta[0]\n",
    "    spec_matching_args_dict['mzml2'] = jMeta[0]\n",
    "    spec_matching_args_dict['index1'] = iMeta[2]\n",
    "    spec_matching_args_dict['index2'] = jMeta[2]\n",
    "    spec_matching_args_dict['startingIndex'] = 0\n",
    "    spec_matching_args = \" \".join([f\"--{k} {v}\" for (k, v) in spec_matching_args_dict.items()])\n",
    "    spec_matching_args += \" --silent\"\n",
    "    spec_matching_args = spectrumMatching.get_args(spec_matching_args)\n",
    "    dfStats = spectrumMatching.run_matching(spec_matching_args)\n",
    "    out_row = []\n",
    "    out_row.append(iPair)\n",
    "    out_row.append(spec_matching_args_dict['mzml1'])\n",
    "    out_row.append(spec_matching_args_dict['index1'])\n",
    "    out_row.append(spec_matching_args_dict['mzml2'])\n",
    "    out_row.append(spec_matching_args_dict['index2'])\n",
    "    out_row.append(dfStats['Intersection']['M'])\n",
    "    out_row.append(dfStats['Intersection']['S_A'])\n",
    "    out_row.append(dfStats['Intersection']['S_B'])\n",
    "    out_row.append(dfStats['Intersection']['D^2'])\n",
    "    out_row.append(dfStats['Intersection']['pval_D^2'])\n",
    "    out_row.append(dfStats['Intersection']['G^2'])\n",
    "    out_row.append(dfStats['Intersection']['pval_G^2'])\n",
    "    out_rows.append(out_row)\n",
    "    if iPair > 4:\n",
    "        break\n",
    "header = [\"pair_index\", 'mzML File 1','File 1 spectrum index (A)','File 2 spectrum index (B)','File 2 spectrum index (B)','M','S_A','S_B','D^2',\n",
    "'p-val (D^2)','G^2','p-val (G^2)']\n",
    "dfOut = pd.DataFrame(out_rows, columns = header)\n",
    "dfOut.at[0, '# of spectrum pairs compared'] = len(dfOut)\n",
    "plt.rcParams['font.family'] = 'DejaVu Sans'\n",
    "for pvalType in ['D^2', 'G^2']:\n",
    "    # plt.plot(dfOut['p-val (D^2)'])\n",
    "    data = dfOut[f'p-val ({pvalType})']\n",
    "    # scipy.stats.kstest(th, th)\n",
    "    res = scipy.stats.kstest(data, 'uniform')\n",
    "    kspval, ksstat = res.pvalue, res.statistic\n",
    "    x = np.sort(data)\n",
    "    y = 1. * np.arange(len(data)) / (len(data) - 1)\n",
    "    x_ones = np.linspace(0, 1, 6)\n",
    "    th = scipy.stats.uniform().cdf(x_ones)\n",
    "    # th = np.arange(0, 1.01, 0.01)\n",
    "    fig, ax = plt.subplots()\n",
    "    plt.plot(x,y, color = \"blue\")\n",
    "    plt.plot(x_ones, th, color = \"black\")\n",
    "    title = f\"{pref.replace('_', ' ')} {pvalType}\"\n",
    "    plt.title(title)\n",
    "    ax.set_xlim((0, 1))\n",
    "    ax.set_ylim((0, 1))\n",
    "    pltText = f\"N: {len(dfOut)}\\nK-S statistic:{ksstat:.3f}\\nK-S test p-value: {kspval:.2E}\"\n",
    "    plt.figtext(0.92, 0.5, pltText, fontsize=14, ha = 'left', fontfamily = 'DejaVu Sans')\n",
    "    \n",
    "    # plotFile = os.path.basename(args.inFile).replace('.pkl', f'_{pvalType.replace(\"^\", \"\")}.pdf')\n",
    "    plotFile = os.path.join(cmd_args_dict['outDir'], f\"{pref}_{pvalType.replace('^', '')}.pdf\")\n",
    "    plt.savefig(plotFile, bbox_inches = 'tight')\n",
    "    plt.close()\n",
    "    dfOut.at[0, f'K-S test {pvalType} p-val'] = kspval\n",
    "dfOut.insert(len(header), None, None)\n",
    "outFile = os.path.join(cmd_args_dict['outDir'], f\"{pref}.tsv\")\n",
    "dfOut.to_csv(outFile, sep = '\\t', index = False)\n",
    "plt.rcParams['font.family'] = 'default'"
   ]
  },
  {
   "cell_type": "code",
   "execution_count": 258,
   "metadata": {},
   "outputs": [
    {
     "name": "stderr",
     "output_type": "stream",
     "text": [
      "  2%|▏         | 5/270 [00:27<24:18,  5.50s/it]\n"
     ]
    }
   ],
   "source": []
  }
 ],
 "metadata": {
  "kernelspec": {
   "display_name": "metabolomics",
   "language": "python",
   "name": "python3"
  },
  "language_info": {
   "codemirror_mode": {
    "name": "ipython",
    "version": 3
   },
   "file_extension": ".py",
   "mimetype": "text/x-python",
   "name": "python",
   "nbconvert_exporter": "python",
   "pygments_lexer": "ipython3",
   "version": "3.9.10"
  },
  "orig_nbformat": 4
 },
 "nbformat": 4,
 "nbformat_minor": 2
}
