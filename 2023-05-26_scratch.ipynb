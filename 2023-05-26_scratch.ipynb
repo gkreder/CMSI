{
 "cells": [
  {
   "cell_type": "code",
   "execution_count": 169,
   "metadata": {},
   "outputs": [
    {
     "name": "stdout",
     "output_type": "stream",
     "text": [
      "The autoreload extension is already loaded. To reload it, use:\n",
      "  %reload_ext autoreload\n"
     ]
    },
    {
     "name": "stderr",
     "output_type": "stream",
     "text": [
      "[autoreload of spectrumMatching failed: Traceback (most recent call last):\n",
      "  File \"/Users/reder/miniconda3/envs/metabolomics/lib/python3.9/site-packages/IPython/extensions/autoreload.py\", line 257, in check\n",
      "    superreload(m, reload, self.old_objects)\n",
      "  File \"/Users/reder/miniconda3/envs/metabolomics/lib/python3.9/site-packages/IPython/extensions/autoreload.py\", line 455, in superreload\n",
      "    module = reload(module)\n",
      "  File \"/Users/reder/miniconda3/envs/metabolomics/lib/python3.9/importlib/__init__.py\", line 169, in reload\n",
      "    _bootstrap._exec(spec, module)\n",
      "  File \"<frozen importlib._bootstrap>\", line 613, in _exec\n",
      "  File \"<frozen importlib._bootstrap_external>\", line 846, in exec_module\n",
      "  File \"<frozen importlib._bootstrap_external>\", line 983, in get_code\n",
      "  File \"<frozen importlib._bootstrap_external>\", line 913, in source_to_code\n",
      "  File \"<frozen importlib._bootstrap>\", line 228, in _call_with_frames_removed\n",
      "  File \"/Users/reder/MSChemUtils/spectrumMatching.py\", line 62\n",
      "    mse = pyms.MSExperiment()\n",
      "IndentationError: unexpected indent\n",
      "]\n"
     ]
    }
   ],
   "source": [
    "%load_ext autoreload\n",
    "%autoreload 2\n",
    "import sys\n",
    "import os\n",
    "import argparse\n",
    "import numpy as np\n",
    "from tqdm.auto import tqdm\n",
    "import spectrumMatching\n",
    "import pyopenms as pyms"
   ]
  },
  {
   "cell_type": "code",
   "execution_count": 222,
   "metadata": {},
   "outputs": [
    {
     "name": "stderr",
     "output_type": "stream",
     "text": [
      "100%|██████████| 60/60 [00:29<00:00,  2.05it/s]\n",
      " 50%|█████     | 1/2 [00:29<00:29, 29.23s/it]\n"
     ]
    }
   ],
   "source": [
    "import importlib\n",
    "spectrumMatching = importlib.reload(spectrumMatching)\n",
    "\n",
    "class argsObject(object):\n",
    "    pass\n",
    "args = argsObject()\n",
    "args.tsv = \"/Users/reder/Library/CloudStorage/OneDrive-Chalmers/MS-MS_Comparison/210128_MS-MS_Comparison_Algorithm/Software_deliverables/2023-05-26_CDF_test/2023-05-26_CDF_test.tsv\"\n",
    "args.random_seed = 1\n",
    "with open(args.tsv, 'r') as f:\n",
    "    lines = f.readlines()\n",
    "\n",
    "for i_line, line in enumerate(tqdm(lines)):\n",
    "    if i_line == 0:\n",
    "        header = line.split('\\t')\n",
    "        continue\n",
    "    line_args = line.split('\\t')\n",
    "    cmd_args_dict = dict()\n",
    "    for (h, a) in zip(header, line_args):\n",
    "        if a not in [\"\", '\\n']:\n",
    "            cmd_args_dict[h] = a\n",
    "    cmd_args_dict['parentMZ'] = cmd_args_dict['Exact m/z']\n",
    "    cmd_args_dict['parentFormula'] = cmd_args_dict['Formula (w/ adduct)']\n",
    "    if \"inDir\" in cmd_args_dict.keys():\n",
    "        if \"inFiles\" in cmd_args_dict.keys():\n",
    "            sys.exit(f\"Both inDir and inFiles were provided in row {i_line + 1}. Please provide only one\")\n",
    "        idt = cmd_args_dict['inDir']\n",
    "        cmd_args_dict['inFiles'] = \",\".join([os.path.join(idt, x) for x in os.listdir(idt) if x.lower().endswith('.mzml')])\n",
    "    hit_rows = spectrumMatching.scrape_spectra_hits(**cmd_args_dict)\n",
    "    break"
   ]
  },
  {
   "cell_type": "code",
   "execution_count": 223,
   "metadata": {},
   "outputs": [],
   "source": [
    "# hit_rows\n",
    "np.random.seed(args.random_seed)\n",
    "choices = np.random.choice(range(0, len(hit_rows)), len(hit_rows), replace=False)\n",
    "i = 0\n",
    "pairs = []\n",
    "while True:\n",
    "    pairs.append((choices[i], choices[i + 1]))\n",
    "    i += 2\n",
    "    if i >= len(choices):\n",
    "        break"
   ]
  },
  {
   "cell_type": "code",
   "execution_count": 224,
   "metadata": {},
   "outputs": [],
   "source": [
    "for iPair, (iSpec, jSpec) in enumerate(pairs):\n",
    "    iMeta = hit_rows[iSpec]\n",
    "    jMeta = hit_rows[jSpec]\n",
    "    drop_keys = [\"Compound\", \"inDir\", \"inFiles\", \"Mode\", \"Collision Energy\", \n",
    "                \"Target RT\", \"Begin\", \"End\", \"Adduct\", \"Formula (w/ adduct)\",\n",
    "                \"Exact m/z\", \"Targeted m/z\", \"isolationMZTol\"]\n",
    "    spec_matching_args_dict = {k : v for (k,v) in cmd_args_dict.items() if k not in drop_keys}\n",
    "    spec_matching_args_dict['outDir'] = os.path.join(cmd_args_dict['outDir'], \"spectrum_matching\")\n",
    "    spec_matching_args_dict['outPrefix'] = f\"{cmd_args_dict['Compound']}_{cmd_args_dict['Mode']}_{cmd_args_dict['Collision Energy']}_{iPair}\"\n",
    "    spec_matching_args_dict['mzml1'] = iMeta[0]\n",
    "    spec_matching_args_dict['mzml2'] = jMeta[0]\n",
    "    spec_matching_args_dict['index1'] = iMeta[2]\n",
    "    spec_matching_args_dict['index2'] = jMeta[2]\n",
    "    spec_matching_args_dict['startingIndex'] = 0\n",
    "    spec_matching_args = \" \".join([f\"--{k} {v}\" for (k, v) in spec_matching_args_dict.items()])\n",
    "    spec_matching_args = spectrumMatching.get_args(spec_matching_args)\n",
    "    break"
   ]
  },
  {
   "cell_type": "code",
   "execution_count": 225,
   "metadata": {},
   "outputs": [
    {
     "name": "stdout",
     "output_type": "stream",
     "text": [
      "mkdir -p /Users/reder/OneDrive/MS-MS_Comparison/210128_MS-MS_Comparison_Algorithm/Software_deliverables/2023-05-26_CDF_test/Caffeine_Pos_20V/spectrum_matching\n",
      "---- Prepping Spectrum 1 ----\n",
      "Filtering peaks....\n",
      "---- Prepping Spectrum 2 ----\n",
      "Filtering peaks....\n"
     ]
    }
   ],
   "source": [
    "spectrumMatching.run_matching(spec_matching_args)"
   ]
  },
  {
   "cell_type": "code",
   "execution_count": null,
   "metadata": {},
   "outputs": [],
   "source": []
  },
  {
   "cell_type": "code",
   "execution_count": 218,
   "metadata": {},
   "outputs": [
    {
     "data": {
      "text/plain": [
       "Namespace(mzml1='/Users/reder/OneDrive/MS-MS_Comparison/210128_MS-MS_Comparison_Algorithm/6530_Q-TOF/211219_MSMS_Mix_Repeats/MSMS_Pos_0-60V/20V_08.mzML', index1=1032, mzml2='/Users/reder/OneDrive/MS-MS_Comparison/210128_MS-MS_Comparison_Algorithm/6530_Q-TOF/211219_MSMS_Mix_Repeats/MSMS_Pos_0-60V/20V_45.mzML', index2=1040, quasiX=114.5, quasiY=-0.238, absCutoff=0, relCutoff=0, DUMin=-0.5, PEL=None, PDPL=None, startingIndex=0, R=10000.0, gainControl=False, quasiCutoff=2.0, minSpectrumQuasiCounts=20, minTotalPeaks=2, outDir='/Users/reder/OneDrive-Chalmers/MS-MS_Comparison/210128_MS-MS_Comparison_Algorithm/Software_deliverables/2023-05-26_CDF_test/Caffeine_Pos_20V/spectrum_matching', outPrefix='Caffeine_Positive_20V_0', parentMZ=195.08765, parentFormula='C8H11N4O2', resClearance=0.02, matchAcc=0.01, subFormulaTol=0.01)"
      ]
     },
     "execution_count": 218,
     "metadata": {},
     "output_type": "execute_result"
    }
   ],
   "source": [
    "spec_matching_args"
   ]
  },
  {
   "cell_type": "code",
   "execution_count": 215,
   "metadata": {},
   "outputs": [
    {
     "data": {
      "text/plain": [
       "{'outDir': '/Users/reder/OneDrive-Chalmers/MS-MS_Comparison/210128_MS-MS_Comparison_Algorithm/Software_deliverables/2023-05-26_CDF_test/Caffeine_Pos_20V/spectrum_matching',\n",
       " 'R': '10000',\n",
       " 'startingIndex': '1',\n",
       " 'quasiX': '114.5',\n",
       " 'quasiY': '-0.238',\n",
       " 'quasiCutoff': '2',\n",
       " 'parentMZ': '195.08765',\n",
       " 'parentFormula': 'C8H11N4O2',\n",
       " 'outPrefix': 'Caffeine_Positive_20V_0',\n",
       " 'mzml1': '/Users/reder/OneDrive/MS-MS_Comparison/210128_MS-MS_Comparison_Algorithm/6530_Q-TOF/211219_MSMS_Mix_Repeats/MSMS_Pos_0-60V/20V_08.mzML',\n",
       " 'mzml2': '/Users/reder/OneDrive/MS-MS_Comparison/210128_MS-MS_Comparison_Algorithm/6530_Q-TOF/211219_MSMS_Mix_Repeats/MSMS_Pos_0-60V/20V_45.mzML',\n",
       " 'index1': 1032,\n",
       " 'index2': 1040}"
      ]
     },
     "execution_count": 215,
     "metadata": {},
     "output_type": "execute_result"
    }
   ],
   "source": [
    "spec_matching_args_dict"
   ]
  },
  {
   "cell_type": "code",
   "execution_count": 206,
   "metadata": {},
   "outputs": [
    {
     "data": {
      "text/plain": [
       "{'outDir': '/Users/reder/OneDrive-Chalmers/MS-MS_Comparison/210128_MS-MS_Comparison_Algorithm/Software_deliverables/2023-05-26_CDF_test/Caffeine_Pos_20V/spectrum_matching',\n",
       " 'R': '10000',\n",
       " 'startingIndex': '1',\n",
       " 'quasiX': '114.5',\n",
       " 'quasiY': '-0.238',\n",
       " 'quasiCutoff': '2',\n",
       " 'parentMZ': '195.08765',\n",
       " 'parentFormula': 'C8H11N4O2',\n",
       " 'mzml1': '/Users/reder/OneDrive/MS-MS_Comparison/210128_MS-MS_Comparison_Algorithm/6530_Q-TOF/211219_MSMS_Mix_Repeats/MSMS_Pos_0-60V/20V_08.mzML',\n",
       " 'mzml2': '/Users/reder/OneDrive/MS-MS_Comparison/210128_MS-MS_Comparison_Algorithm/6530_Q-TOF/211219_MSMS_Mix_Repeats/MSMS_Pos_0-60V/20V_45.mzML',\n",
       " 'index1': 1032,\n",
       " 'index2': 1040}"
      ]
     },
     "execution_count": 206,
     "metadata": {},
     "output_type": "execute_result"
    }
   ],
   "source": [
    "spec_matching_args_dict"
   ]
  },
  {
   "cell_type": "code",
   "execution_count": 204,
   "metadata": {},
   "outputs": [
    {
     "data": {
      "text/plain": [
       "'/Users/reder/OneDrive-Chalmers/MS-MS_Comparison/210128_MS-MS_Comparison_Algorithm/Software_deliverables/2023-05-26_CDF_test/Caffeine_Pos_20V/spectrum_matching'"
      ]
     },
     "execution_count": 204,
     "metadata": {},
     "output_type": "execute_result"
    }
   ],
   "source": []
  },
  {
   "cell_type": "code",
   "execution_count": 207,
   "metadata": {},
   "outputs": [
    {
     "data": {
      "text/plain": [
       "{'Compound': 'Caffeine',\n",
       " 'inFiles': '\"/Users/reder/OneDrive/MS-MS_Comparison/210128_MS-MS_Comparison_Algorithm/6530_Q-TOF/211219_MSMS_Mix_Repeats/MSMS_Pos_0-60V/20V_01.mzML,/Users/reder/OneDrive/MS-MS_Comparison/210128_MS-MS_Comparison_Algorithm/6530_Q-TOF/211219_MSMS_Mix_Repeats/MSMS_Pos_0-60V/20V_02.mzML,/Users/reder/OneDrive/MS-MS_Comparison/210128_MS-MS_Comparison_Algorithm/6530_Q-TOF/211219_MSMS_Mix_Repeats/MSMS_Pos_0-60V/20V_03.mzML,/Users/reder/OneDrive/MS-MS_Comparison/210128_MS-MS_Comparison_Algorithm/6530_Q-TOF/211219_MSMS_Mix_Repeats/MSMS_Pos_0-60V/20V_04.mzML,/Users/reder/OneDrive/MS-MS_Comparison/210128_MS-MS_Comparison_Algorithm/6530_Q-TOF/211219_MSMS_Mix_Repeats/MSMS_Pos_0-60V/20V_05.mzML,/Users/reder/OneDrive/MS-MS_Comparison/210128_MS-MS_Comparison_Algorithm/6530_Q-TOF/211219_MSMS_Mix_Repeats/MSMS_Pos_0-60V/20V_06.mzML,/Users/reder/OneDrive/MS-MS_Comparison/210128_MS-MS_Comparison_Algorithm/6530_Q-TOF/211219_MSMS_Mix_Repeats/MSMS_Pos_0-60V/20V_07.mzML,/Users/reder/OneDrive/MS-MS_Comparison/210128_MS-MS_Comparison_Algorithm/6530_Q-TOF/211219_MSMS_Mix_Repeats/MSMS_Pos_0-60V/20V_08.mzML,/Users/reder/OneDrive/MS-MS_Comparison/210128_MS-MS_Comparison_Algorithm/6530_Q-TOF/211219_MSMS_Mix_Repeats/MSMS_Pos_0-60V/20V_09.mzML,/Users/reder/OneDrive/MS-MS_Comparison/210128_MS-MS_Comparison_Algorithm/6530_Q-TOF/211219_MSMS_Mix_Repeats/MSMS_Pos_0-60V/20V_10.mzML,/Users/reder/OneDrive/MS-MS_Comparison/210128_MS-MS_Comparison_Algorithm/6530_Q-TOF/211219_MSMS_Mix_Repeats/MSMS_Pos_0-60V/20V_11.mzML,/Users/reder/OneDrive/MS-MS_Comparison/210128_MS-MS_Comparison_Algorithm/6530_Q-TOF/211219_MSMS_Mix_Repeats/MSMS_Pos_0-60V/20V_12.mzML,/Users/reder/OneDrive/MS-MS_Comparison/210128_MS-MS_Comparison_Algorithm/6530_Q-TOF/211219_MSMS_Mix_Repeats/MSMS_Pos_0-60V/20V_13.mzML,/Users/reder/OneDrive/MS-MS_Comparison/210128_MS-MS_Comparison_Algorithm/6530_Q-TOF/211219_MSMS_Mix_Repeats/MSMS_Pos_0-60V/20V_14.mzML,/Users/reder/OneDrive/MS-MS_Comparison/210128_MS-MS_Comparison_Algorithm/6530_Q-TOF/211219_MSMS_Mix_Repeats/MSMS_Pos_0-60V/20V_15.mzML,/Users/reder/OneDrive/MS-MS_Comparison/210128_MS-MS_Comparison_Algorithm/6530_Q-TOF/211219_MSMS_Mix_Repeats/MSMS_Pos_0-60V/20V_16.mzML,/Users/reder/OneDrive/MS-MS_Comparison/210128_MS-MS_Comparison_Algorithm/6530_Q-TOF/211219_MSMS_Mix_Repeats/MSMS_Pos_0-60V/20V_17.mzML,/Users/reder/OneDrive/MS-MS_Comparison/210128_MS-MS_Comparison_Algorithm/6530_Q-TOF/211219_MSMS_Mix_Repeats/MSMS_Pos_0-60V/20V_18.mzML,/Users/reder/OneDrive/MS-MS_Comparison/210128_MS-MS_Comparison_Algorithm/6530_Q-TOF/211219_MSMS_Mix_Repeats/MSMS_Pos_0-60V/20V_19.mzML,/Users/reder/OneDrive/MS-MS_Comparison/210128_MS-MS_Comparison_Algorithm/6530_Q-TOF/211219_MSMS_Mix_Repeats/MSMS_Pos_0-60V/20V_20.mzML,/Users/reder/OneDrive/MS-MS_Comparison/210128_MS-MS_Comparison_Algorithm/6530_Q-TOF/211219_MSMS_Mix_Repeats/MSMS_Pos_0-60V/20V_21.mzML,/Users/reder/OneDrive/MS-MS_Comparison/210128_MS-MS_Comparison_Algorithm/6530_Q-TOF/211219_MSMS_Mix_Repeats/MSMS_Pos_0-60V/20V_22.mzML,/Users/reder/OneDrive/MS-MS_Comparison/210128_MS-MS_Comparison_Algorithm/6530_Q-TOF/211219_MSMS_Mix_Repeats/MSMS_Pos_0-60V/20V_23.mzML,/Users/reder/OneDrive/MS-MS_Comparison/210128_MS-MS_Comparison_Algorithm/6530_Q-TOF/211219_MSMS_Mix_Repeats/MSMS_Pos_0-60V/20V_24.mzML,/Users/reder/OneDrive/MS-MS_Comparison/210128_MS-MS_Comparison_Algorithm/6530_Q-TOF/211219_MSMS_Mix_Repeats/MSMS_Pos_0-60V/20V_25.mzML,/Users/reder/OneDrive/MS-MS_Comparison/210128_MS-MS_Comparison_Algorithm/6530_Q-TOF/211219_MSMS_Mix_Repeats/MSMS_Pos_0-60V/20V_26.mzML,/Users/reder/OneDrive/MS-MS_Comparison/210128_MS-MS_Comparison_Algorithm/6530_Q-TOF/211219_MSMS_Mix_Repeats/MSMS_Pos_0-60V/20V_27.mzML,/Users/reder/OneDrive/MS-MS_Comparison/210128_MS-MS_Comparison_Algorithm/6530_Q-TOF/211219_MSMS_Mix_Repeats/MSMS_Pos_0-60V/20V_28.mzML,/Users/reder/OneDrive/MS-MS_Comparison/210128_MS-MS_Comparison_Algorithm/6530_Q-TOF/211219_MSMS_Mix_Repeats/MSMS_Pos_0-60V/20V_29.mzML,/Users/reder/OneDrive/MS-MS_Comparison/210128_MS-MS_Comparison_Algorithm/6530_Q-TOF/211219_MSMS_Mix_Repeats/MSMS_Pos_0-60V/20V_30.mzML,/Users/reder/OneDrive/MS-MS_Comparison/210128_MS-MS_Comparison_Algorithm/6530_Q-TOF/211219_MSMS_Mix_Repeats/MSMS_Pos_0-60V/20V_31.mzML,/Users/reder/OneDrive/MS-MS_Comparison/210128_MS-MS_Comparison_Algorithm/6530_Q-TOF/211219_MSMS_Mix_Repeats/MSMS_Pos_0-60V/20V_32.mzML,/Users/reder/OneDrive/MS-MS_Comparison/210128_MS-MS_Comparison_Algorithm/6530_Q-TOF/211219_MSMS_Mix_Repeats/MSMS_Pos_0-60V/20V_33.mzML,/Users/reder/OneDrive/MS-MS_Comparison/210128_MS-MS_Comparison_Algorithm/6530_Q-TOF/211219_MSMS_Mix_Repeats/MSMS_Pos_0-60V/20V_34.mzML,/Users/reder/OneDrive/MS-MS_Comparison/210128_MS-MS_Comparison_Algorithm/6530_Q-TOF/211219_MSMS_Mix_Repeats/MSMS_Pos_0-60V/20V_35.mzML,/Users/reder/OneDrive/MS-MS_Comparison/210128_MS-MS_Comparison_Algorithm/6530_Q-TOF/211219_MSMS_Mix_Repeats/MSMS_Pos_0-60V/20V_36.mzML,/Users/reder/OneDrive/MS-MS_Comparison/210128_MS-MS_Comparison_Algorithm/6530_Q-TOF/211219_MSMS_Mix_Repeats/MSMS_Pos_0-60V/20V_37.mzML,/Users/reder/OneDrive/MS-MS_Comparison/210128_MS-MS_Comparison_Algorithm/6530_Q-TOF/211219_MSMS_Mix_Repeats/MSMS_Pos_0-60V/20V_38.mzML,/Users/reder/OneDrive/MS-MS_Comparison/210128_MS-MS_Comparison_Algorithm/6530_Q-TOF/211219_MSMS_Mix_Repeats/MSMS_Pos_0-60V/20V_39.mzML,/Users/reder/OneDrive/MS-MS_Comparison/210128_MS-MS_Comparison_Algorithm/6530_Q-TOF/211219_MSMS_Mix_Repeats/MSMS_Pos_0-60V/20V_40.mzML,/Users/reder/OneDrive/MS-MS_Comparison/210128_MS-MS_Comparison_Algorithm/6530_Q-TOF/211219_MSMS_Mix_Repeats/MSMS_Pos_0-60V/20V_41.mzML,/Users/reder/OneDrive/MS-MS_Comparison/210128_MS-MS_Comparison_Algorithm/6530_Q-TOF/211219_MSMS_Mix_Repeats/MSMS_Pos_0-60V/20V_42.mzML,/Users/reder/OneDrive/MS-MS_Comparison/210128_MS-MS_Comparison_Algorithm/6530_Q-TOF/211219_MSMS_Mix_Repeats/MSMS_Pos_0-60V/20V_43.mzML,/Users/reder/OneDrive/MS-MS_Comparison/210128_MS-MS_Comparison_Algorithm/6530_Q-TOF/211219_MSMS_Mix_Repeats/MSMS_Pos_0-60V/20V_44.mzML,/Users/reder/OneDrive/MS-MS_Comparison/210128_MS-MS_Comparison_Algorithm/6530_Q-TOF/211219_MSMS_Mix_Repeats/MSMS_Pos_0-60V/20V_45.mzML,/Users/reder/OneDrive/MS-MS_Comparison/210128_MS-MS_Comparison_Algorithm/6530_Q-TOF/211219_MSMS_Mix_Repeats/MSMS_Pos_0-60V/20V_46.mzML,/Users/reder/OneDrive/MS-MS_Comparison/210128_MS-MS_Comparison_Algorithm/6530_Q-TOF/211219_MSMS_Mix_Repeats/MSMS_Pos_0-60V/20V_47.mzML,/Users/reder/OneDrive/MS-MS_Comparison/210128_MS-MS_Comparison_Algorithm/6530_Q-TOF/211219_MSMS_Mix_Repeats/MSMS_Pos_0-60V/20V_48.mzML,/Users/reder/OneDrive/MS-MS_Comparison/210128_MS-MS_Comparison_Algorithm/6530_Q-TOF/211219_MSMS_Mix_Repeats/MSMS_Pos_0-60V/20V_49.mzML,/Users/reder/OneDrive/MS-MS_Comparison/210128_MS-MS_Comparison_Algorithm/6530_Q-TOF/211219_MSMS_Mix_Repeats/MSMS_Pos_0-60V/20V_50.mzML,/Users/reder/OneDrive/MS-MS_Comparison/210128_MS-MS_Comparison_Algorithm/6530_Q-TOF/211219_MSMS_Mix_Repeats/MSMS_Pos_0-60V/20V_51.mzML,/Users/reder/OneDrive/MS-MS_Comparison/210128_MS-MS_Comparison_Algorithm/6530_Q-TOF/211219_MSMS_Mix_Repeats/MSMS_Pos_0-60V/20V_52.mzML,/Users/reder/OneDrive/MS-MS_Comparison/210128_MS-MS_Comparison_Algorithm/6530_Q-TOF/211219_MSMS_Mix_Repeats/MSMS_Pos_0-60V/20V_53.mzML,/Users/reder/OneDrive/MS-MS_Comparison/210128_MS-MS_Comparison_Algorithm/6530_Q-TOF/211219_MSMS_Mix_Repeats/MSMS_Pos_0-60V/20V_54.mzML,/Users/reder/OneDrive/MS-MS_Comparison/210128_MS-MS_Comparison_Algorithm/6530_Q-TOF/211219_MSMS_Mix_Repeats/MSMS_Pos_0-60V/20V_55.mzML,/Users/reder/OneDrive/MS-MS_Comparison/210128_MS-MS_Comparison_Algorithm/6530_Q-TOF/211219_MSMS_Mix_Repeats/MSMS_Pos_0-60V/20V_56.mzML,/Users/reder/OneDrive/MS-MS_Comparison/210128_MS-MS_Comparison_Algorithm/6530_Q-TOF/211219_MSMS_Mix_Repeats/MSMS_Pos_0-60V/20V_57.mzML,/Users/reder/OneDrive/MS-MS_Comparison/210128_MS-MS_Comparison_Algorithm/6530_Q-TOF/211219_MSMS_Mix_Repeats/MSMS_Pos_0-60V/20V_58.mzML,/Users/reder/OneDrive/MS-MS_Comparison/210128_MS-MS_Comparison_Algorithm/6530_Q-TOF/211219_MSMS_Mix_Repeats/MSMS_Pos_0-60V/20V_59.mzML,/Users/reder/OneDrive/MS-MS_Comparison/210128_MS-MS_Comparison_Algorithm/6530_Q-TOF/211219_MSMS_Mix_Repeats/MSMS_Pos_0-60V/20V_60.mzML\"',\n",
       " 'outDir': '/Users/reder/OneDrive-Chalmers/MS-MS_Comparison/210128_MS-MS_Comparison_Algorithm/Software_deliverables/2023-05-26_CDF_test/Caffeine_Pos_20V',\n",
       " 'Mode': 'Positive',\n",
       " 'Collision Energy': '20V',\n",
       " 'Target RT': '2.36',\n",
       " 'Begin': '2.26',\n",
       " 'End': '2.46',\n",
       " 'Adduct': '[M+H]+',\n",
       " 'Formula (w/ adduct)': 'C8H11N4O2',\n",
       " 'Exact m/z': '195.08765',\n",
       " 'Targeted m/z': '194.8',\n",
       " 'isolationMZTol': '0.01',\n",
       " 'R': '10000',\n",
       " 'startingIndex': '1',\n",
       " 'quasiX': '114.5',\n",
       " 'quasiY': '-0.238',\n",
       " 'quasiCutoff': '2',\n",
       " 'parentMZ': '195.08765',\n",
       " 'parentFormula': 'C8H11N4O2'}"
      ]
     },
     "execution_count": 207,
     "metadata": {},
     "output_type": "execute_result"
    }
   ],
   "source": [
    "cmd_args_dict"
   ]
  },
  {
   "cell_type": "code",
   "execution_count": 210,
   "metadata": {},
   "outputs": [
    {
     "data": {
      "text/plain": [
       "'Caffeine_Positive_20V_0'"
      ]
     },
     "execution_count": 210,
     "metadata": {},
     "output_type": "execute_result"
    }
   ],
   "source": []
  },
  {
   "cell_type": "code",
   "execution_count": null,
   "metadata": {},
   "outputs": [],
   "source": []
  }
 ],
 "metadata": {
  "kernelspec": {
   "display_name": "metabolomics",
   "language": "python",
   "name": "python3"
  },
  "language_info": {
   "codemirror_mode": {
    "name": "ipython",
    "version": 3
   },
   "file_extension": ".py",
   "mimetype": "text/x-python",
   "name": "python",
   "nbconvert_exporter": "python",
   "pygments_lexer": "ipython3",
   "version": "3.9.10"
  },
  "orig_nbformat": 4
 },
 "nbformat": 4,
 "nbformat_minor": 2
}
