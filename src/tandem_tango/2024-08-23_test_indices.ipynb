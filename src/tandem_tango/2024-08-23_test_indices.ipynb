{
 "cells": [
  {
   "cell_type": "code",
   "execution_count": 3,
   "metadata": {},
   "outputs": [
    {
     "name": "stderr",
     "output_type": "stream",
     "text": [
      "Determination of memory status is not supported on this \n",
      " platform, measuring for memoryleaks will never fail\n"
     ]
    }
   ],
   "source": [
    "import pyteomics\n",
    "from pyopenms import *"
   ]
  },
  {
   "cell_type": "code",
   "execution_count": 4,
   "metadata": {},
   "outputs": [],
   "source": [
    "mzml_in = \"/Users/gkreder/Downloads/01_IC3.mzML\""
   ]
  },
  {
   "cell_type": "code",
   "execution_count": 5,
   "metadata": {},
   "outputs": [
    {
     "data": {
      "text/plain": [
       "True"
      ]
     },
     "execution_count": 5,
     "metadata": {},
     "output_type": "execute_result"
    }
   ],
   "source": [
    "ode = OnDiscMSExperiment()\n",
    "ode.openFile(mzml_in)"
   ]
  },
  {
   "cell_type": "code",
   "execution_count": 7,
   "metadata": {},
   "outputs": [],
   "source": [
    "spec_pyms = ode.getSpectrum(101)"
   ]
  },
  {
   "cell_type": "code",
   "execution_count": 9,
   "metadata": {},
   "outputs": [
    {
     "data": {
      "text/plain": [
       "(array([  27.39304123,  110.9733202 ,  119.03631992,  494.9639997 ,\n",
       "         805.9805665 ,  806.98788947,  940.00458944,  941.01289623,\n",
       "         955.97092074,  956.21112855,  956.97171092,  957.20923484,\n",
       "         957.97054139,  958.97521733,  959.99128254,  966.00074548,\n",
       "         966.33631629,  966.6509284 ,  967.004829  ,  968.00507312,\n",
       "         969.00970211,  969.88560294,  970.41786463,  970.49605227,\n",
       "         971.50438966,  978.97227203,  980.01648676,  981.01910738,\n",
       "         981.55465615,  981.66115866,  981.79023274,  982.01831589,\n",
       "         982.31010916,  982.99005836,  983.43258072,  983.66172387,\n",
       "         983.99201573,  984.99488256,  996.00925367,  997.0024785 ,\n",
       "        1001.98491929, 1015.99657337, 1017.00867485, 1017.97691467,\n",
       "        1018.96852737, 1019.95226171, 1020.95982943, 1021.98340144,\n",
       "        1024.00647675, 1025.00822894, 1031.9762872 , 1032.31894221,\n",
       "        1032.9766904 , 1033.98283903, 1034.32509518, 1034.99796244,\n",
       "        1035.30527943, 1036.00724989, 1038.01966575, 1039.04495484,\n",
       "        1040.03607822, 1040.73672768, 1041.04104962, 1042.03956979,\n",
       "        1048.00993468, 1049.02459365, 1050.0589025 , 1052.04164601,\n",
       "        1053.02380886, 1054.05048389, 1062.01165172, 1063.01900921,\n",
       "        1064.00815725, 1064.99682348, 1065.99664381, 1066.98997831,\n",
       "        1078.03574724, 1080.07267811, 1083.98068692, 1094.03654563,\n",
       "        1099.96786793, 1104.01463363, 1106.08440454, 1115.9897531 ,\n",
       "        1116.99734133, 1122.04763878, 1130.0480445 , 1133.97483715,\n",
       "        1144.01181985, 1165.9872215 , 1166.12448929, 1166.99065474,\n",
       "        1174.97345095, 1215.98750765, 1216.97690729, 1265.97745748,\n",
       "        1266.97369092, 1315.97944963, 1365.96704898, 1415.95585556,\n",
       "        1565.92795123]),\n",
       " array([   266.02777,    253.95   ,   3728.2966 ,    204.13298,\n",
       "           816.37805,    307.65308,    684.82623,    231.51219,\n",
       "         40185.797  ,   1441.293  ,   7690.328  ,    273.91638,\n",
       "         12583.823  ,   2775.5508 ,    476.01627,  29548.021  ,\n",
       "           605.0453 ,    392.5238 ,   6829.4097 ,   1107.8384 ,\n",
       "           419.46753,    230.28409,    229.11574,    219.9    ,\n",
       "           215.29688,    242.0121 , 156909.69   ,  32361.066  ,\n",
       "           256.70087,    215.72383,    373.22223,   6471.1904 ,\n",
       "           334.70724,  15797.9    ,    266.10538,    243.125  ,\n",
       "          3025.68   ,    801.8184 ,   1336.9169 ,    287.4    ,\n",
       "           462.5122 ,    948.09796,    335.63022,    885.0481 ,\n",
       "           207.56   ,   1868.6154 ,    499.15918,    308.53088,\n",
       "          2170.0134 ,    696.1737 ,  15843.594  ,    472.34723,\n",
       "          3858.139  ,   3952.8435 ,    258.24265,    725.41833,\n",
       "           224.88235,    251.30882,    672.0336 ,    211.17857,\n",
       "         18610.094  ,    368.917  ,   5193.394  ,   1363.466  ,\n",
       "           940.33386,    278.55682,    488.68967,   1628.9055 ,\n",
       "           491.18826,    260.0043 ,   2333.043  ,    506.76996,\n",
       "           447.39706,    306.39804,   2973.7466 ,    968.4229 ,\n",
       "           207.17763,    258.65097,    264.1323 ,    453.51578,\n",
       "           306.11206,    238.42223,    329.16025,   2048.8652 ,\n",
       "           678.1112 ,    246.04529,    209.88373,    219.98349,\n",
       "           252.91847,   1458.377  ,    265.45587,    538.7361 ,\n",
       "           200.841  ,   1045.8932 ,    241.0173 ,    703.92017,\n",
       "           237.39113,    283.25   ,    540.2941 ,    433.4904 ,\n",
       "           208.57861], dtype=float32))"
      ]
     },
     "execution_count": 9,
     "metadata": {},
     "output_type": "execute_result"
    }
   ],
   "source": [
    "spec_pyms.get_peaks()"
   ]
  },
  {
   "cell_type": "code",
   "execution_count": 32,
   "metadata": {},
   "outputs": [],
   "source": [
    "from pyteomics import mzml\n",
    "\n",
    "with mzml.MzML(mzml_in) as f:\n",
    "    spec_pyt = f.get_by_index(101)\n",
    "\n",
    "pyt_mzs = spec_pyt['m/z array']\n",
    "pyt_ints = spec_pyt['intensity array']\n",
    "pyms_mzs, pyms_ints = spec_pyms.get_peaks()"
   ]
  },
  {
   "cell_type": "code",
   "execution_count": 30,
   "metadata": {},
   "outputs": [
    {
     "data": {
      "text/plain": [
       "(True, True)"
      ]
     },
     "execution_count": 30,
     "metadata": {},
     "output_type": "execute_result"
    }
   ],
   "source": [
    "np.all(pyt_mzs == pyms_mzs), np.all(pyt_ints == pyms_ints)"
   ]
  },
  {
   "cell_type": "code",
   "execution_count": 36,
   "metadata": {},
   "outputs": [
    {
     "data": {
      "text/plain": [
       "1"
      ]
     },
     "execution_count": 36,
     "metadata": {},
     "output_type": "execute_result"
    }
   ],
   "source": [
    "spec_pyt['ms level']"
   ]
  },
  {
   "cell_type": "code",
   "execution_count": 37,
   "metadata": {},
   "outputs": [
    {
     "data": {
      "text/plain": [
       "101"
      ]
     },
     "execution_count": 37,
     "metadata": {},
     "output_type": "execute_result"
    }
   ],
   "source": [
    "spec_pyt['index']"
   ]
  },
  {
   "cell_type": "code",
   "execution_count": 35,
   "metadata": {},
   "outputs": [
    {
     "data": {
      "text/plain": [
       "dict_keys(['index', 'id', 'defaultArrayLength', 'scanList', 'negative scan', 'base peak m/z', 'base peak intensity', 'total ion current', 'ms level', 'MS1 spectrum', 'centroid spectrum', 'lowest observed m/z', 'highest observed m/z', 'spectrum title', 'count', 'm/z array', 'intensity array'])"
      ]
     },
     "execution_count": 35,
     "metadata": {},
     "output_type": "execute_result"
    }
   ],
   "source": [
    "spec_pyt.keys()"
   ]
  }
 ],
 "metadata": {
  "kernelspec": {
   "display_name": "MetabM1",
   "language": "python",
   "name": "python3"
  },
  "language_info": {
   "codemirror_mode": {
    "name": "ipython",
    "version": 3
   },
   "file_extension": ".py",
   "mimetype": "text/x-python",
   "name": "python",
   "nbconvert_exporter": "python",
   "pygments_lexer": "ipython3",
   "version": "3.10.8"
  }
 },
 "nbformat": 4,
 "nbformat_minor": 2
}
