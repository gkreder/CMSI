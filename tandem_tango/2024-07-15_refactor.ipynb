{
 "cells": [
  {
   "cell_type": "code",
   "execution_count": 90,
   "metadata": {},
   "outputs": [
    {
     "name": "stdout",
     "output_type": "stream",
     "text": [
      "The autoreload extension is already loaded. To reload it, use:\n",
      "  %reload_ext autoreload\n"
     ]
    }
   ],
   "source": [
    "%load_ext autoreload\n",
    "%autoreload all\n",
    "import argparse\n",
    "from typing import Dict, Tuple, List, Literal\n",
    "import logging\n",
    "import pandas as pd\n",
    "import molmass\n",
    "from pyteomics import mzml as pytmzml\n",
    "from draft import *\n",
    "\n",
    "import matplotlib.pyplot as plt"
   ]
  },
  {
   "cell_type": "code",
   "execution_count": 106,
   "metadata": {},
   "outputs": [],
   "source": [
    "mzml_1 = \"/Users/gkreder/Downloads/2024-07-15_mschemutils-refactor/Pos_01.mzML\"\n",
    "mzml_2 = \"/Users/gkreder/Downloads/2024-07-15_mschemutils-refactor/Pos_05.mzML\"\n",
    "starting_index = 1\n",
    "index_1 = 750\n",
    "index_2 = 633\n",
    "quasi_x = 114.5\n",
    "quasi_y = -0.238\n",
    "R = 10000\n",
    "match_acc = 100.0 / R\n",
    "res_clearance = 200.0 / R\n",
    "subformula_tolerance = 100.0 / R\n",
    "du_min = -0.5\n",
    "min_spectrum_quasi_sum = 20\n",
    "min_total_peaks = 2\n",
    "abs_cutoff = None\n",
    "rel_cutoff = None\n",
    "QUASI_CUTOFF_DEFAULT = 5\n",
    "quasi_cutoff = QUASI_CUTOFF_DEFAULT\n",
    "exclude_peaks = None\n",
    "pdpl = None\n",
    "parent_mz = 271.0601\n",
    "parent_formula = molmass.Formula(\"C15H11O5\").formula\n",
    "out_prefix = \"Genistein_v_DMG_0V-Pos_01_750_v_Pos_05_633\"\n",
    "suffixes = ['A', 'B']\n",
    "log_plots = True\n",
    "gain_control = False"
   ]
  },
  {
   "cell_type": "code",
   "execution_count": 127,
   "metadata": {},
   "outputs": [
    {
     "name": "stderr",
     "output_type": "stream",
     "text": [
      "INFO:root:Reading spectra\n",
      "DEBUG:root:Getting spectrum 749 from /Users/gkreder/Downloads/2024-07-15_mschemutils-refactor/Pos_01.mzML\n",
      "DEBUG:root:Getting spectrum 632 from /Users/gkreder/Downloads/2024-07-15_mschemutils-refactor/Pos_05.mzML\n",
      "INFO:root:Validating spectra\n",
      "INFO:root:Filtering and converting spectra\n",
      "DEBUG:root:Filtering spectrum with filters: abs_cutoff=None, quasi_x=114.5, quasi_y=-0.238, rel_cutoff=None, quasi_cutoff=5, pdpl=None, exclude_peaks=None, match_acc=0.01, parent_mz=271.0601, res_clearance=0.02\n",
      "DEBUG:root:Converting spectrum intensities to quasicounts with x = 114.5 and y = -0.238\n",
      "DEBUG:root:Filtering spectrum by quasi count cutoff of 5\n",
      "DEBUG:root:Filtering spectrum by parent m/z 271.0601 with match accuracy of 0.01\n",
      "DEBUG:root:Filtering spectrum by resolution clearance of 0.02\n",
      "DEBUG:root:Filtering spectrum by peak exclusion [271.0606417691041] (keep_exact=True) with match accuracy of 0.02\n",
      "DEBUG:root:Filtering spectrum by peak exclusion [215.06548681993976] (keep_exact=True) with match accuracy of 0.02\n",
      "DEBUG:root:Filtering spectrum by peak exclusion [153.0186857495392] (keep_exact=True) with match accuracy of 0.02\n",
      "DEBUG:root:Filtering spectrum by peak exclusion [243.06630337920265] (keep_exact=True) with match accuracy of 0.02\n",
      "DEBUG:root:Filtering spectrum by peak exclusion [149.0238605910778] (keep_exact=True) with match accuracy of 0.02\n",
      "DEBUG:root:Filtering spectrum with filters: abs_cutoff=None, quasi_x=114.5, quasi_y=-0.238, rel_cutoff=None, quasi_cutoff=5, pdpl=None, exclude_peaks=None, match_acc=0.01, parent_mz=271.0601, res_clearance=0.02\n",
      "DEBUG:root:Converting spectrum intensities to quasicounts with x = 114.5 and y = -0.238\n",
      "DEBUG:root:Filtering spectrum by quasi count cutoff of 5\n",
      "DEBUG:root:Filtering spectrum by parent m/z 271.0601 with match accuracy of 0.01\n",
      "DEBUG:root:Filtering spectrum by resolution clearance of 0.02\n",
      "DEBUG:root:Filtering spectrum by peak exclusion [271.0605424568428] (keep_exact=True) with match accuracy of 0.02\n",
      "DEBUG:root:Filtering spectrum by peak exclusion [215.07436510824294] (keep_exact=True) with match accuracy of 0.02\n",
      "DEBUG:root:Filtering spectrum by peak exclusion [141.07050819218472] (keep_exact=True) with match accuracy of 0.02\n",
      "DEBUG:root:Filtering spectrum by peak exclusion [197.0605402086868] (keep_exact=True) with match accuracy of 0.02\n",
      "DEBUG:root:Filtering spectrum by peak exclusion [169.06784341408374] (keep_exact=True) with match accuracy of 0.02\n",
      "DEBUG:root:Filtering spectrum by peak exclusion [153.015881235234] (keep_exact=True) with match accuracy of 0.02\n",
      "DEBUG:root:Filtering spectrum by peak exclusion [243.06520427393232] (keep_exact=True) with match accuracy of 0.02\n",
      "DEBUG:root:Filtering spectrum by peak exclusion [270.97598565637054] (keep_exact=True) with match accuracy of 0.02\n",
      "DEBUG:root:Filtering spectrum with filters: abs_cutoff=None, quasi_x=114.5, quasi_y=-0.238, rel_cutoff=None, quasi_cutoff=None, pdpl=None, exclude_peaks=None, match_acc=0.01, parent_mz=271.0601, res_clearance=None\n",
      "DEBUG:root:Converting spectrum intensities to quasicounts with x = 114.5 and y = -0.238\n",
      "DEBUG:root:Filtering spectrum by parent m/z 271.0601 with match accuracy of 0.01\n",
      "DEBUG:root:Filtering spectrum with filters: abs_cutoff=None, quasi_x=114.5, quasi_y=-0.238, rel_cutoff=None, quasi_cutoff=None, pdpl=None, exclude_peaks=None, match_acc=0.01, parent_mz=271.0601, res_clearance=None\n",
      "DEBUG:root:Converting spectrum intensities to quasicounts with x = 114.5 and y = -0.238\n",
      "DEBUG:root:Filtering spectrum by parent m/z 271.0601 with match accuracy of 0.01\n",
      "INFO:root:Merging spectra\n",
      "DEBUG:root:Merging spectra with tolerance 0.01 using direction nearest and join key m/z array\n",
      "INFO:root:Parent formula specified - Calculating formulas\n",
      "DEBUG:root:PDPL not specified - Filtering non-formula fragments\n",
      "INFO:root:Calculating metrics\n",
      "DEBUG:root:Calculating join metrics for Union join\n",
      "DEBUG:root:Calculating join metrics for Intersection join\n"
     ]
    }
   ],
   "source": [
    "logger = logging.getLogger()\n",
    "logger.setLevel(logging.DEBUG)\n",
    "logging.info(\"Reading spectra\")\n",
    "spectra = get_spectra_by_indices([mzml_1, mzml_2], [index_1 - starting_index, index_2 - starting_index], gain_control)\n",
    "logging.info(\"Validating spectra\")\n",
    "validate_spectrum_pair(spectra)\n",
    "kw = {'abs_cutoff' : abs_cutoff, \n",
    "      'quasi_x' : quasi_x,\n",
    "      'quasi_y' : quasi_y,\n",
    "      'rel_cutoff' : rel_cutoff,\n",
    "      'quasi_cutoff' : quasi_cutoff,\n",
    "      'pdpl' : pdpl,\n",
    "      'exclude_peaks' : exclude_peaks,\n",
    "      'match_acc' : match_acc,\n",
    "      'parent_mz' : parent_mz,\n",
    "      'res_clearance' : res_clearance,\n",
    "      'sort_intensity' : True\n",
    "      }\n",
    "logging.info(\"Filtering and converting spectra\")\n",
    "spectra_filtered = [filter_and_convert_spectrum_complete(spectrum, **kw) for spectrum in spectra]\n",
    "gray_kw = {\n",
    "    'quasi_x' : quasi_x,\n",
    "    'quasi_y' : quasi_y,\n",
    "    'parent_mz' : parent_mz,\n",
    "    'match_acc' : match_acc\n",
    "}\n",
    "gray_spectra = [filter_and_convert_spectrum_complete(spectrum, **gray_kw) for spectrum in spectra]\n",
    "logging.info(\"Merging spectra\")\n",
    "merged_spectrum = merge_spectra(spectra_filtered[0], spectra_filtered[1], match_acc)\n",
    "final_spectrum = merged_spectrum.copy()\n",
    "if parent_formula is not None:\n",
    "    logging.info(\"Parent formula specified - Calculating formulas\")\n",
    "    formula_spectrum = add_spectra_formulas(final_spectrum, parent_formula, subformula_tolerance, du_min, pdpl)\n",
    "logging.info(\"Calculating metrics\")\n",
    "metrics = calc_spectra_metrics(formula_spectrum)\n",
    "df_stats, df_intersection, df_union, spectra_df = get_results_dfs(spectra, metrics, parent_mz, quasi_x, quasi_y, parent_formula, suffixes)\n",
    "write_results_xlsx(\"/Users/gkreder/Downloads/test.xlsx\", df_stats, df_intersection, df_union, spectra_df)\n",
    "summary_plots(df_stats, df_intersection, df_union, gray_spectra, suffixes=suffixes, log_plots=log_plots)"
   ]
  },
  {
   "cell_type": "code",
   "execution_count": 126,
   "metadata": {},
   "outputs": [],
   "source": []
  }
 ],
 "metadata": {
  "kernelspec": {
   "display_name": "Python 3",
   "language": "python",
   "name": "python3"
  },
  "language_info": {
   "codemirror_mode": {
    "name": "ipython",
    "version": 3
   },
   "file_extension": ".py",
   "mimetype": "text/x-python",
   "name": "python",
   "nbconvert_exporter": "python",
   "pygments_lexer": "ipython3",
   "version": "3.12.4"
  }
 },
 "nbformat": 4,
 "nbformat_minor": 2
}
