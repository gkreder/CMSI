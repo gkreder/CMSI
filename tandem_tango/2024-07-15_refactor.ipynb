{
 "cells": [
  {
   "cell_type": "code",
   "execution_count": 44,
   "metadata": {},
   "outputs": [],
   "source": [
    "import argparse\n",
    "from typing import Dict, Tuple, List\n",
    "import logging\n",
    "import copy\n",
    "\n",
    "import numpy as np\n",
    "\n",
    "from pyteomics import mzml as pytmzml"
   ]
  },
  {
   "cell_type": "code",
   "execution_count": null,
   "metadata": {},
   "outputs": [],
   "source": [
    "\n",
    "# Constants\n",
    "NS = {'mzml': 'http://psi.hupo.org/ms/mzml',\n",
    "      'ms_level': 'MS:1000511',\n",
    "      \"scan_start_time\" : 'MS:1000016', # in minutes\n",
    "      \"isolation_window_target_mz\" : 'MS:1000827'}\n",
    "QUASI_CUTOFF_DEFAULT = 5\n"
   ]
  },
  {
   "cell_type": "code",
   "execution_count": 88,
   "metadata": {},
   "outputs": [],
   "source": [
    "def get_spectrum_by_index(mzml_file: str, spec_index: int, gain_control: bool = False):\n",
    "    \"\"\"Get a spectrum by index from an mz file\"\"\"\n",
    "    reader = pytmzml.MzML(mzml_file)\n",
    "    spec = reader.get_by_index(spec_index)\n",
    "    reader.close()\n",
    "    if gain_control:\n",
    "        raise NotImplementedError(\"Gain control is not yet implemented for Pyteomics implementation\")\n",
    "    return spec\n",
    "\n",
    "def get_spectra_by_indices(mzml_files : List[str], spec_indices : List[int], gain_control : bool = False):\n",
    "    \"\"\"Get a list of spectra by indices from a list of mz files\"\"\"\n",
    "    spectra = []\n",
    "    for mzml_file, spec_index in zip(mzml_files, spec_indices):\n",
    "        spectra.append(get_spectrum_by_index(mzml_file, spec_index, gain_control))\n",
    "    return spectra\n",
    "\n",
    "def get_spectrum_polarity(spectrum : Dict) -> str:\n",
    "    \"\"\"Get the polarity of a spectrum\"\"\"\n",
    "    if 'negative scan' in spectrum.keys():\n",
    "        return 'Negative'\n",
    "    elif 'positive scan' in spectrum.keys():\n",
    "        return 'Positive'\n",
    "    else:\n",
    "        raise ValueError(\"Could not determine polarity of spectrum via Pyteomics\")\n",
    "    \n",
    "def validate_spectrum_pair(spectra : List[Dict]) -> None:\n",
    "    \"\"\"Validate that a pair of spectra are the same polarity and both MS2\"\"\"\n",
    "    if len(set([get_spectrum_polarity(spec) for spec in spectra])) > 1:\n",
    "        raise ValueError(\"Spectra have different polarities\")\n",
    "    if set([spec['ms level'] for spec in spectra]) != {2}:\n",
    "        raise ValueError(\"Spectra are not both MS2\")\n",
    "    \n",
    "def validate_spectrum_counts(spectrum : Dict, min_quasi_sum : float, min_total_peaks : int) -> None:\n",
    "    \"\"\"Validate that a spectrum has enough peaks and quasi count sum\"\"\"\n",
    "    if len(spectrum['m/z array']) == 0:\n",
    "        raise ValueError(\"Spectrum has no peaks\")\n",
    "    if np.sum(spectrum['quasi array']) < min_quasi_sum:\n",
    "        raise ValueError(f\"Spectrum quasi count sum is too low - {np.sum(spectrum['quasi array'])}\")\n",
    "    if len(spectrum['m/z array']) < min_total_peaks:\n",
    "        raise ValueError(f\"Spectrum has too few peaks\" - { len(spectrum['m/z array']) })\n",
    "\n",
    "def get_quasi_counts(spectrum : Dict, quasi_x : float, quasi_y : float) -> Dict:\n",
    "    \"\"\"Returns the converted quasi counts for a given spectrum\"\"\"\n",
    "    quasi_counts = spectrum['intensity array'] / ( quasi_x *  ( np.power(spectrum['m/z array'], quasi_y) ) )\n",
    "    return quasi_counts\n",
    "\n",
    "def sort_spectrum_intensity(spectrum : Dict, sort_fields : List[str] = ['intensity array', 'm/z array', 'quasi array']) -> Dict:\n",
    "    \"\"\"Sort a spectrum by intensity\"\"\"\n",
    "    out_spectrum = copy.deepcopy(spectrum)\n",
    "    sort_order = np.argsort(spectrum['intensity array'])[::-1]\n",
    "    for key in sort_fields:\n",
    "        if key in out_spectrum:\n",
    "            out_spectrum[key] = spectrum[key][sort_order]\n",
    "    return out_spectrum\n",
    "\n",
    "def filter_spectrum_absolute(spectrum : Dict, abs_cutoff : float, filter_keys : List[str] = ['intensity array', 'm/z array', 'quasi array']) -> Dict:\n",
    "    \"\"\"Filter a spectrum by an absolute intensity cutoff along the given filter keys\"\"\"\n",
    "    out_spectrum = copy.deepcopy(spectrum)\n",
    "    filter = spectrum['intensity array'] >= abs_cutoff\n",
    "    for key in filter_keys:\n",
    "        if key in out_spectrum:\n",
    "            out_spectrum[key] = spectrum[key][filter]\n",
    "    return out_spectrum\n",
    "\n",
    "def filter_spectrum_pdpl(spectrum : Dict, pdpl : List[float], match_acc : float, filter_keys : List[str] = ['intensity array', 'm/z array', 'quasi array']) -> Dict:\n",
    "    \"\"\"Filter a spectrum according to a pre-defined peak list (PDPL) along the given filter keys\"\"\"\n",
    "    out_spectrum = copy.deepcopy(spectrum)\n",
    "    pdpl_array = np.array(pdpl)\n",
    "    filter = np.any(np.abs(spectrum['m/z array'][:, None] - pdpl_array) <= match_acc, axis=1)\n",
    "    for key in filter_keys:\n",
    "        if key in out_spectrum:\n",
    "            out_spectrum[key] = spectrum[key][filter]\n",
    "    return out_spectrum\n",
    "\n",
    "def filter_spectrum_quasi(spectrum : Dict, quasi_cutoff : float, filter_keys : List[str] = ['intensity array', 'm/z array', 'quasi array']) -> Dict:\n",
    "    \"\"\"Filter a spectrum by quasi counts along the given filter keys\"\"\"\n",
    "    out_spectrum = copy.deepcopy(spectrum)\n",
    "    filter = spectrum['quasi array'] >= quasi_cutoff\n",
    "    for key in filter_keys:\n",
    "        if key in out_spectrum:\n",
    "            out_spectrum[key] = spectrum[key][filter]\n",
    "    return out_spectrum\n",
    "\n",
    "def filter_spectrum_parent_mz(spectrum : Dict, parent_mz : float, match_acc : float, filter_keys : List[str] = ['intensity array', 'm/z array', 'quasi array']) -> Dict:\n",
    "    \"\"\"Filter a spectrum along the given filter keys leaving only fragments with m/z <= parent m/z\"\"\"\n",
    "    out_spectrum = copy.deepcopy(spectrum)\n",
    "    filter = spectrum['m/z array'] <= (parent_mz+match_acc)\n",
    "    for key in filter_keys:\n",
    "        if key in out_spectrum:\n",
    "            out_spectrum[key] = spectrum[key][filter]\n",
    "    return out_spectrum\n",
    "\n",
    "def filter_spectrum_peak_exclusion(spectrum : Dict, exclude_peaks : List[float], match_acc : float, filter_keys : List[str] = ['intensity array', 'm/z array', 'quasi array']) -> Dict:\n",
    "    \"\"\"Filter a spectrum along the given filter keys excluding fragments with the given m/zs\"\"\"\n",
    "    out_spectrum = copy.deepcopy(spectrum)\n",
    "    peak_exclusion_array = np.array(exclude_peaks)\n",
    "    filter = ~np.any(np.abs(spectrum['m/z array'][:, None] - peak_exclusion_array) <= match_acc, axis=1)\n",
    "    for key in filter_keys:\n",
    "        if key in out_spectrum:\n",
    "            out_spectrum[key] = spectrum[key][filter]\n",
    "    return out_spectrum\n",
    "\n",
    "def filter_spectrum_relative(spectrum : Dict, rel_cutoff : float, filter_keys : List[str] = ['intensity array', 'm/z array', 'quasi array']) -> Dict:\n",
    "    \"\"\"Filter a spectrum by a relative intensity cutoff along the given filter keys\"\"\"\n",
    "    out_spectrum = copy.deepcopy(spectrum)\n",
    "    filter = spectrum['intensity array'] >= (rel_cutoff * np.max(spectrum['intensity array']))\n",
    "    for key in filter_keys:\n",
    "        if key in out_spectrum:\n",
    "            out_spectrum[key] = spectrum[key][filter]\n",
    "    return out_spectrum\n",
    "\n",
    "def filter_spectrum_res_clearance(spectrum : Dict, res_clearance : float, sort_intensity : bool = True, filter_keys : List[str] = ['intensity array', 'm/z array', 'quasi array']) -> Dict:\n",
    "    \"\"\"Filter a spectrum by resolution clearance along the given filter keys. Loops through the fragment arrays\n",
    "    and for each m/z, filters out any other fragments within res_clearance\"\"\"\n",
    "    # Sort by intensity if requested\n",
    "    if sort_intensity:\n",
    "        out_spectrum = sort_spectrum_intensity(out_spectrum, filter_keys)\n",
    "    else:\n",
    "        out_spectrum = copy.deepcopy(spectrum)\n",
    "    mzs = [x for x in spectrum['m/z array']]\n",
    "    for mz in mzs:\n",
    "        out_spectrum = filter_spectrum_peak_exclusion(out_spectrum, [mz], res_clearance, filter_keys)\n",
    "    return out_spectrum\n",
    "\n",
    "def filter_and_convert_spectrum_complete(spectrum : Dict, \n",
    "                             abs_cutoff : float = None,\n",
    "                             quasi_x : float = None,\n",
    "                             quasi_y : float = None,\n",
    "                             rel_cutoff : float = None,\n",
    "                             quasi_cutoff : float = None,\n",
    "                             pdpl : List[float] = None,\n",
    "                             exclude_peaks : List[float] = None,\n",
    "                             match_acc : float = None,\n",
    "                             parent_mz : float = None,\n",
    "                             res_clearance : float = None,\n",
    "                             sort_intensity : bool = True) -> Dict:\n",
    "    \"\"\"A wrapper function that filters a spectrum (and converts to quasicounts) by all filters in succession according to a set order.\n",
    "    Absolute intensity filtering (if provided) is performed before quasicount conversion\"\"\"\n",
    "    out_spectrum = copy.deepcopy(spectrum)\n",
    "    # Apply filters\n",
    "    if abs_cutoff is not None:\n",
    "        out_spectrum = filter_spectrum_absolute(out_spectrum, abs_cutoff)\n",
    "    if quasi_x is not None and quasi_y is not None:\n",
    "        out_spectrum['quasi array'] = get_quasi_counts(out_spectrum, quasi_x, quasi_y)\n",
    "    if pdpl is not None:\n",
    "        if match_acc is None:\n",
    "            raise ValueError(\"PDPL provided but no match accuracy\")\n",
    "        out_spectrum = filter_spectrum_pdpl(out_spectrum, pdpl, match_acc)\n",
    "    if quasi_cutoff is not None:\n",
    "        out_spectrum = filter_spectrum_quasi(out_spectrum, quasi_cutoff)    \n",
    "    if parent_mz is not None:\n",
    "        out_spectrum = filter_spectrum_parent_mz(out_spectrum, parent_mz, match_acc)\n",
    "    if exclude_peaks is not None:\n",
    "        if match_acc is None:\n",
    "            raise ValueError(\"Excluded peaks provided but no match accuracy\")\n",
    "        out_spectrum = filter_spectrum_peak_exclusion(out_spectrum, exclude_peaks, match_acc)\n",
    "    if rel_cutoff is not None:\n",
    "        out_spectrum = filter_spectrum_relative(out_spectrum, rel_cutoff)\n",
    "    if sort_intensity:\n",
    "        out_spectrum = sort_spectrum_intensity(out_spectrum)\n",
    "    if res_clearance is not None:\n",
    "        out_spectrum = filter_spectrum_res_clearance(out_spectrum, res_clearance, sort_intensity)\n",
    "            \n",
    "    return out_spectrum"
   ]
  },
  {
   "cell_type": "code",
   "execution_count": 89,
   "metadata": {},
   "outputs": [],
   "source": [
    "mzml_1 = \"/Users/gkreder/Downloads/2024-07-15_mschemutils-refactor/Pos_01.mzML\"\n",
    "mzml_2 = \"/Users/gkreder/Downloads/2024-07-15_mschemutils-refactor/Pos_05.mzML\"\n",
    "starting_index = 0\n",
    "index_1 = 750\n",
    "index_2 = 633\n",
    "quasi_x = 114.5\n",
    "quasi_y = -0.238\n",
    "R = 10000\n",
    "match_acc = 100.0 / R\n",
    "res_clearance = 200.0 / R\n",
    "subformula_tolerance = 100.0 / R\n",
    "du_min = -0.5\n",
    "min_spectrum_quasi_sum = 20\n",
    "min_total_peaks = 5\n",
    "\n",
    "abs_cutoff = None\n",
    "rel_cutoff = None\n",
    "QUASI_CUTOFF_DEFAULT = 5\n",
    "quasi_cutoff = QUASI_CUTOFF_DEFAULT\n",
    "exclude_peaks = None\n",
    "pdpl = None\n",
    "\n",
    "parent_mz = 271.0601\n",
    "parent_formula = \"C15H11O5\"\n",
    "out_prefix = \"Genistein_v_DMG_0V-Pos_01_750_v_Pos_05_633\"\n",
    "\n",
    "\n",
    "gain_control = False"
   ]
  },
  {
   "cell_type": "code",
   "execution_count": 90,
   "metadata": {},
   "outputs": [
    {
     "ename": "UnboundLocalError",
     "evalue": "cannot access local variable 'out_spectrum' where it is not associated with a value",
     "output_type": "error",
     "traceback": [
      "\u001b[0;31m---------------------------------------------------------------------------\u001b[0m",
      "\u001b[0;31mUnboundLocalError\u001b[0m                         Traceback (most recent call last)",
      "Cell \u001b[0;32mIn[90], line 4\u001b[0m\n\u001b[1;32m      2\u001b[0m gray_spectra \u001b[38;5;241m=\u001b[39m copy\u001b[38;5;241m.\u001b[39mdeepcopy(spectra)\n\u001b[1;32m      3\u001b[0m validate_spectrum_pair(spectra)\n\u001b[0;32m----> 4\u001b[0m spectra_filtered \u001b[38;5;241m=\u001b[39m [\u001b[43mfilter_and_convert_spectrum_complete\u001b[49m\u001b[43m(\u001b[49m\u001b[43mspectrum\u001b[49m\u001b[43m,\u001b[49m\n\u001b[1;32m      5\u001b[0m \u001b[43m                                                         \u001b[49m\u001b[43mabs_cutoff\u001b[49m\u001b[38;5;241;43m=\u001b[39;49m\u001b[43mabs_cutoff\u001b[49m\u001b[43m,\u001b[49m\n\u001b[1;32m      6\u001b[0m \u001b[43m                                                         \u001b[49m\u001b[43mquasi_x\u001b[49m\u001b[38;5;241;43m=\u001b[39;49m\u001b[43mquasi_x\u001b[49m\u001b[43m,\u001b[49m\n\u001b[1;32m      7\u001b[0m \u001b[43m                                                         \u001b[49m\u001b[43mquasi_y\u001b[49m\u001b[38;5;241;43m=\u001b[39;49m\u001b[43mquasi_y\u001b[49m\u001b[43m,\u001b[49m\n\u001b[1;32m      8\u001b[0m \u001b[43m                                                         \u001b[49m\u001b[43mrel_cutoff\u001b[49m\u001b[38;5;241;43m=\u001b[39;49m\u001b[43mrel_cutoff\u001b[49m\u001b[43m,\u001b[49m\n\u001b[1;32m      9\u001b[0m \u001b[43m                                                         \u001b[49m\u001b[43mquasi_cutoff\u001b[49m\u001b[38;5;241;43m=\u001b[39;49m\u001b[43mquasi_cutoff\u001b[49m\u001b[43m,\u001b[49m\n\u001b[1;32m     10\u001b[0m \u001b[43m                                                            \u001b[49m\u001b[43mpdpl\u001b[49m\u001b[38;5;241;43m=\u001b[39;49m\u001b[43mpdpl\u001b[49m\u001b[43m,\u001b[49m\n\u001b[1;32m     11\u001b[0m \u001b[43m                                                            \u001b[49m\u001b[43mexclude_peaks\u001b[49m\u001b[38;5;241;43m=\u001b[39;49m\u001b[43mexclude_peaks\u001b[49m\u001b[43m,\u001b[49m\n\u001b[1;32m     12\u001b[0m \u001b[43m                                                            \u001b[49m\u001b[43mmatch_acc\u001b[49m\u001b[38;5;241;43m=\u001b[39;49m\u001b[43mmatch_acc\u001b[49m\u001b[43m,\u001b[49m\n\u001b[1;32m     13\u001b[0m \u001b[43m                                                            \u001b[49m\u001b[43mparent_mz\u001b[49m\u001b[38;5;241;43m=\u001b[39;49m\u001b[43mparent_mz\u001b[49m\u001b[43m,\u001b[49m\n\u001b[1;32m     14\u001b[0m \u001b[43m                                                            \u001b[49m\u001b[43mres_clearance\u001b[49m\u001b[38;5;241;43m=\u001b[39;49m\u001b[43mres_clearance\u001b[49m\u001b[43m,\u001b[49m\n\u001b[1;32m     15\u001b[0m \u001b[43m                                                            \u001b[49m\u001b[43msort_intensity\u001b[49m\u001b[38;5;241;43m=\u001b[39;49m\u001b[38;5;28;43;01mTrue\u001b[39;49;00m\u001b[43m)\u001b[49m \u001b[38;5;28;01mfor\u001b[39;00m spectrum \u001b[38;5;129;01min\u001b[39;00m spectra]\n",
      "Cell \u001b[0;32mIn[88], line 162\u001b[0m, in \u001b[0;36mfilter_and_convert_spectrum_complete\u001b[0;34m(spectrum, abs_cutoff, quasi_x, quasi_y, rel_cutoff, quasi_cutoff, pdpl, exclude_peaks, match_acc, parent_mz, res_clearance, sort_intensity)\u001b[0m\n\u001b[1;32m    160\u001b[0m     out_spectrum \u001b[38;5;241m=\u001b[39m sort_spectrum_intensity(out_spectrum)\n\u001b[1;32m    161\u001b[0m \u001b[38;5;28;01mif\u001b[39;00m res_clearance \u001b[38;5;129;01mis\u001b[39;00m \u001b[38;5;129;01mnot\u001b[39;00m \u001b[38;5;28;01mNone\u001b[39;00m:\n\u001b[0;32m--> 162\u001b[0m     out_spectrum \u001b[38;5;241m=\u001b[39m \u001b[43mfilter_spectrum_res_clearance\u001b[49m\u001b[43m(\u001b[49m\u001b[43mout_spectrum\u001b[49m\u001b[43m,\u001b[49m\u001b[43m \u001b[49m\u001b[43mres_clearance\u001b[49m\u001b[43m,\u001b[49m\u001b[43m \u001b[49m\u001b[43msort_intensity\u001b[49m\u001b[43m)\u001b[49m\n\u001b[1;32m    164\u001b[0m \u001b[38;5;28;01mreturn\u001b[39;00m out_spectrum\n",
      "Cell \u001b[0;32mIn[88], line 117\u001b[0m, in \u001b[0;36mfilter_spectrum_res_clearance\u001b[0;34m(spectrum, res_clearance, sort_intensity, filter_keys)\u001b[0m\n\u001b[1;32m    115\u001b[0m \u001b[38;5;66;03m# Sort by intensity if requested\u001b[39;00m\n\u001b[1;32m    116\u001b[0m \u001b[38;5;28;01mif\u001b[39;00m sort_intensity:\n\u001b[0;32m--> 117\u001b[0m     out_spectrum \u001b[38;5;241m=\u001b[39m sort_spectrum_intensity(\u001b[43mout_spectrum\u001b[49m, filter_keys)\n\u001b[1;32m    118\u001b[0m \u001b[38;5;28;01melse\u001b[39;00m:\n\u001b[1;32m    119\u001b[0m     out_spectrum \u001b[38;5;241m=\u001b[39m copy\u001b[38;5;241m.\u001b[39mdeepcopy(spectrum)\n",
      "\u001b[0;31mUnboundLocalError\u001b[0m: cannot access local variable 'out_spectrum' where it is not associated with a value"
     ]
    }
   ],
   "source": [
    "spectra = get_spectra_by_indices([mzml_1, mzml_2], [index_1, index_2], gain_control)\n",
    "gray_spectra = copy.deepcopy(spectra)\n",
    "validate_spectrum_pair(spectra)\n",
    "spectra_filtered = [filter_and_convert_spectrum_complete(spectrum,\n",
    "                                                         abs_cutoff=abs_cutoff,\n",
    "                                                         quasi_x=quasi_x,\n",
    "                                                         quasi_y=quasi_y,\n",
    "                                                         rel_cutoff=rel_cutoff,\n",
    "                                                         quasi_cutoff=quasi_cutoff,\n",
    "                                                            pdpl=pdpl,\n",
    "                                                            exclude_peaks=exclude_peaks,\n",
    "                                                            match_acc=match_acc,\n",
    "                                                            parent_mz=parent_mz,\n",
    "                                                            res_clearance=res_clearance,\n",
    "                                                            sort_intensity=True) for spectrum in spectra]"
   ]
  },
  {
   "cell_type": "code",
   "execution_count": 83,
   "metadata": {},
   "outputs": [
    {
     "data": {
      "text/plain": [
       "{'index': 750,\n",
       " 'id': 'scanId=415665',\n",
       " 'defaultArrayLength': 6000,\n",
       " 'scanList': {'count': 1,\n",
       "  'scan': [{'scanWindowList': {'count': 1,\n",
       "     'scanWindow': [{'scan window lower limit': 20.005659658849 m/z,\n",
       "       'scan window upper limit': 798.702816237665 m/z}]},\n",
       "    'scan start time': 6.927616666667 minute}],\n",
       "  'no combination': ''},\n",
       " 'precursorList': {'count': 1,\n",
       "  'precursor': [{'isolationWindow': {'isolation window target m/z': 271.060089111328 m/z},\n",
       "    'selectedIonList': {'count': 1,\n",
       "     'selectedIon': [{'selected ion m/z': 271.060089111328 m/z,\n",
       "       'charge state': 1,\n",
       "       'peak intensity': 456869.3027372 number of detector counts}]},\n",
       "    'activation': {'beam-type collision-induced dissociation': '',\n",
       "     'collision energy': 10.0 electronvolt}}]},\n",
       " 'positive scan': '',\n",
       " 'base peak m/z': 271.061114991048 m/z,\n",
       " 'base peak intensity': 326115.188 number of detector counts,\n",
       " 'total ion current': 456869.313 number of detector counts,\n",
       " 'ms level': 2,\n",
       " 'MSn spectrum': '',\n",
       " 'centroid spectrum': '',\n",
       " 'lowest observed m/z': 20.005659658849 m/z,\n",
       " 'highest observed m/z': 798.702816237665 m/z,\n",
       " 'spectrum title': '01_Std_Mix_1_MSMS_1_0-20V.415665.415665.1 File:\"01_Std_Mix_1_MSMS_1_0-20V.d\", NativeID:\"scanId=415665\"',\n",
       " 'count': 2,\n",
       " 'm/z array': array([271.06071117, 272.06386298, 215.06949941, ...,  97.43561326,\n",
       "        178.8377583 ,  35.52624629]),\n",
       " 'intensity array': array([3.26115188e+05, 7.67946045e+03, 6.12287842e+03, ...,\n",
       "        9.00000000e+00, 9.00000000e+00, 9.00000000e+00])}"
      ]
     },
     "execution_count": 83,
     "metadata": {},
     "output_type": "execute_result"
    }
   ],
   "source": []
  },
  {
   "cell_type": "code",
   "execution_count": 52,
   "metadata": {},
   "outputs": [],
   "source": [
    "filter = spectrum['intensity array'] >= 100"
   ]
  },
  {
   "cell_type": "code",
   "execution_count": 57,
   "metadata": {},
   "outputs": [
    {
     "data": {
      "text/plain": [
       "np.float64(101.68160247802734)"
      ]
     },
     "execution_count": 57,
     "metadata": {},
     "output_type": "execute_result"
    }
   ],
   "source": [
    "spectrum['intensity array'][filter].min()"
   ]
  },
  {
   "cell_type": "code",
   "execution_count": 46,
   "metadata": {},
   "outputs": [
    {
     "data": {
      "text/plain": [
       "dict_keys(['index', 'id', 'defaultArrayLength', 'scanList', 'precursorList', 'positive scan', 'base peak m/z', 'base peak intensity', 'total ion current', 'ms level', 'MSn spectrum', 'centroid spectrum', 'lowest observed m/z', 'highest observed m/z', 'spectrum title', 'count', 'm/z array', 'intensity array'])"
      ]
     },
     "execution_count": 46,
     "metadata": {},
     "output_type": "execute_result"
    }
   ],
   "source": [
    "s.keys()"
   ]
  },
  {
   "cell_type": "code",
   "execution_count": 50,
   "metadata": {},
   "outputs": [
    {
     "data": {
      "text/plain": [
       "array([ 21.03337886,  21.17019402,  21.181723  , ..., 797.83385276,\n",
       "       798.61875293, 798.70281624])"
      ]
     },
     "execution_count": 50,
     "metadata": {},
     "output_type": "execute_result"
    }
   ],
   "source": [
    "filter_indices = s['intensity array'] > abs_cutoff"
   ]
  },
  {
   "cell_type": "code",
   "execution_count": 37,
   "metadata": {},
   "outputs": [
    {
     "data": {
      "text/plain": [
       "{'index': 750,\n",
       " 'id': 'scanId=415665',\n",
       " 'defaultArrayLength': 6000,\n",
       " 'scanList': {'count': 1,\n",
       "  'scan': [{'scanWindowList': {'count': 1,\n",
       "     'scanWindow': [{'scan window lower limit': 20.005659658849 m/z,\n",
       "       'scan window upper limit': 798.702816237665 m/z}]},\n",
       "    'scan start time': 6.927616666667 minute}],\n",
       "  'no combination': ''},\n",
       " 'precursorList': {'count': 1,\n",
       "  'precursor': [{'isolationWindow': {'isolation window target m/z': 271.060089111328 m/z},\n",
       "    'selectedIonList': {'count': 1,\n",
       "     'selectedIon': [{'selected ion m/z': 271.060089111328 m/z,\n",
       "       'charge state': 1,\n",
       "       'peak intensity': 456869.3027372 number of detector counts}]},\n",
       "    'activation': {'beam-type collision-induced dissociation': '',\n",
       "     'collision energy': 10.0 electronvolt}}]},\n",
       " 'positive scan': '',\n",
       " 'base peak m/z': 271.061114991048 m/z,\n",
       " 'base peak intensity': 326115.188 number of detector counts,\n",
       " 'total ion current': 456869.313 number of detector counts,\n",
       " 'ms level': 2,\n",
       " 'MSn spectrum': '',\n",
       " 'centroid spectrum': '',\n",
       " 'lowest observed m/z': 20.005659658849 m/z,\n",
       " 'highest observed m/z': 798.702816237665 m/z,\n",
       " 'spectrum title': '01_Std_Mix_1_MSMS_1_0-20V.415665.415665.1 File:\"01_Std_Mix_1_MSMS_1_0-20V.d\", NativeID:\"scanId=415665\"',\n",
       " 'count': 2,\n",
       " 'm/z array': array([ 20.00565966,  20.02865883,  20.082435  , ..., 797.83385276,\n",
       "        798.61875293, 798.70281624]),\n",
       " 'intensity array': array([11.08653831, 13.28125   ,  9.00833321, ..., 10.5625    ,\n",
       "         9.04166698, 15.03571415])}"
      ]
     },
     "execution_count": 37,
     "metadata": {},
     "output_type": "execute_result"
    }
   ],
   "source": [
    "'lowest observed m/z',\n",
    "'highest observed m/z',\n",
    "'spectrum title',\n",
    "'count',\n",
    "'m/z array',\n",
    "'intensity array'"
   ]
  }
 ],
 "metadata": {
  "kernelspec": {
   "display_name": "Python 3",
   "language": "python",
   "name": "python3"
  },
  "language_info": {
   "codemirror_mode": {
    "name": "ipython",
    "version": 3
   },
   "file_extension": ".py",
   "mimetype": "text/x-python",
   "name": "python",
   "nbconvert_exporter": "python",
   "pygments_lexer": "ipython3",
   "version": "3.12.4"
  }
 },
 "nbformat": 4,
 "nbformat_minor": 2
}
